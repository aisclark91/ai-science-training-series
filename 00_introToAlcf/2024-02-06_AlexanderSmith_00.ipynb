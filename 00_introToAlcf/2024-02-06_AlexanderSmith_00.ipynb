{
 "cells": [
  {
   "cell_type": "code",
   "execution_count": 1,
   "metadata": {},
   "outputs": [
    {
     "name": "stdout",
     "output_type": "stream",
     "text": [
      "testing environment setting\n"
     ]
    }
   ],
   "source": [
    "import os\n",
    "\n",
    "print(\"testing environment setting\")"
   ]
  }
 ],
 "metadata": {
  "kernelspec": {
   "display_name": "py_ai_series",
   "language": "python",
   "name": "python3"
  },
  "language_info": {
   "codemirror_mode": {
    "name": "ipython",
    "version": 3
   },
   "file_extension": ".py",
   "mimetype": "text/x-python",
   "name": "python",
   "nbconvert_exporter": "python",
   "pygments_lexer": "ipython3",
   "version": "3.8.13"
  }
 },
 "nbformat": 4,
 "nbformat_minor": 2
}
